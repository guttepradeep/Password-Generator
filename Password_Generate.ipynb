{
 "cells": [
  {
   "cell_type": "code",
   "execution_count": 5,
   "id": "08ac9fa7",
   "metadata": {},
   "outputs": [
    {
     "name": "stdout",
     "output_type": "stream",
     "text": [
      "Pssword generater:\n",
      "How many charater do you need:4\n",
      "How many special charateris need4\n",
      " How many number in Password:3\n",
      " Your Password is #C8I3&Y^J<2\n"
     ]
    }
   ],
   "source": [
    "import random\n",
    "letter=['A', 'B', 'C', 'D', 'E', 'F', 'G', 'H', 'I', 'J', 'K', 'L', 'M', 'N', 'O', 'P', 'Q', 'R','S', 'T', 'U', 'V', 'W', 'X', 'Y', 'Z']\n",
    "special=[ '%', '^', '~', '|', '<', '>', '&', '@', '#','!']\n",
    "number=['1','2','3','4','5','6','7','8','9','0']\n",
    "\n",
    "print(\"Pssword generater:\")\n",
    "let=int(input(\"How many charater do you need:\"))\n",
    "spe=int(input(\"How many special charateris need\"))\n",
    "num=int(input(\" How many number in Password:\"))\n",
    "\n",
    "password=[]\n",
    "for char in range(1,let+1):\n",
    "    password+=random.choice(letter)\n",
    "    \n",
    "for sp in range(1,spe+1):\n",
    "    password+=random.choice(special)\n",
    "    \n",
    "for nm in range(1,num+1):\n",
    "    password+=random.choice(number)\n",
    "    \n",
    "#print(password)\n",
    "random.shuffle(password)\n",
    "#print(password)\n",
    "\n",
    "password_list=\"\"\n",
    "for char in password:\n",
    "    password_list+=char\n",
    "    \n",
    "print(f\" Your Password is {password_list}\")"
   ]
  }
 ],
 "metadata": {
  "kernelspec": {
   "display_name": "Python 3 (ipykernel)",
   "language": "python",
   "name": "python3"
  },
  "language_info": {
   "codemirror_mode": {
    "name": "ipython",
    "version": 3
   },
   "file_extension": ".py",
   "mimetype": "text/x-python",
   "name": "python",
   "nbconvert_exporter": "python",
   "pygments_lexer": "ipython3",
   "version": "3.11.4"
  }
 },
 "nbformat": 4,
 "nbformat_minor": 5
}
